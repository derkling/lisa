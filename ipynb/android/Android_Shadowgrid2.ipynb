{
 "cells": [
  {
   "cell_type": "code",
   "execution_count": null,
   "metadata": {
    "collapsed": true
   },
   "outputs": [],
   "source": [
    "import logging\n",
    "reload(logging)\n",
    "logging.basicConfig(\n",
    "    format='%(asctime)-9s %(levelname)-8s: %(message)s',\n",
    "    datefmt='%I:%M:%S')\n",
    "\n",
    "# Enable logging at INFO level\n",
    "logging.getLogger().setLevel(logging.DEBUG)\n",
    "# Uncomment the follwing line to enabled devlib debugging statements\n",
    "#logging.getLogger('ssh').setLevel(logging.DEBUG)\n",
    "#logging.getLogger('android').setLevel(logging.DEBUG)"
   ]
  },
  {
   "cell_type": "code",
   "execution_count": null,
   "metadata": {
    "collapsed": false
   },
   "outputs": [],
   "source": [
    "# Generate plots inline\n",
    "%pylab inline\n",
    "\n",
    "import copy\n",
    "import json\n",
    "import os\n",
    "import pexpect as pe\n",
    "\n",
    "# Support to access the remote target\n",
    "import devlib\n",
    "from env import TestEnv\n",
    "\n",
    "# Support to configure and run RTApp based workloads\n",
    "from wlgen import RTA\n",
    "\n",
    "# Support for performance analysis of RTApp workloads\n",
    "from perf_analysis import PerfAnalysis\n",
    "\n",
    "# Support for trace events analysis\n",
    "from trace import Trace\n",
    "from trace_analysis import TraceAnalysis\n",
    "from filters import Filters\n",
    "\n",
    "# Suport for FTrace events parsing and visualization\n",
    "import trappy\n",
    "import bart\n",
    "\n",
    "# Support for DataFrames\n",
    "import pandas as pd"
   ]
  },
  {
   "cell_type": "markdown",
   "metadata": {},
   "source": [
    "# Target specific constants"
   ]
  },
  {
   "cell_type": "code",
   "execution_count": null,
   "metadata": {
    "collapsed": false
   },
   "outputs": [],
   "source": [
    "# Ariel Energy Model\n",
    "nrg_model = {\n",
    "        \"big\": {\n",
    "            \"cluster\": {\n",
    "                \"nrg_max\": 0,\n",
    "                \"nrg_min\": 0\n",
    "            },\n",
    "            \"cpu\": {\n",
    "                \"cap_max\": 1024,\n",
    "                \"cap_min\": 207,\n",
    "                \"nrg_max\": 0,\n",
    "                \"nrg_min\": 0\n",
    "            }\n",
    "        },\n",
    "        \"little\": {\n",
    "            \"cluster\": {\n",
    "                \"nrg_max\": 0,\n",
    "                \"nrg_min\": 0\n",
    "            },\n",
    "            \"cpu\": {\n",
    "                \"cap_max\": 816,\n",
    "                \"cap_min\": 207,\n",
    "                \"nrg_max\": 0,\n",
    "                \"nrg_min\": 0\n",
    "            }\n",
    "        }\n",
    "}"
   ]
  },
  {
   "cell_type": "markdown",
   "metadata": {},
   "source": [
    "# Test environment setup"
   ]
  },
  {
   "cell_type": "code",
   "execution_count": null,
   "metadata": {
    "collapsed": false
   },
   "outputs": [],
   "source": [
    "# Setup a target configuration\n",
    "my_conf = {\n",
    "    \n",
    "    # Define the kind of target platform to use for the experiments\n",
    "    \"platform\"    : 'android',\n",
    "    \"board\"       : 'n5x',\n",
    "    \n",
    "    # Results folder\n",
    "    \"results_dir\" : \"AndroidShadow\",\n",
    "    \n",
    "    \"nrg_model\" : nrg_model,\n",
    "\n",
    "    # Comment the following line to force rt-app calibration on your target\n",
    "    \"rtapp-calib\" : {\n",
    "        '0': 194, '1': 193, '2': 191, '3': 191, '4': 75, '5': 75\n",
    "    },\n",
    "\n",
    "    # Binary tools required to run this experiment\n",
    "    # These tools must be present in the tools/ folder for the architecture\n",
    "    \"tools\"   : ['rt-app', 'taskset', 'trace-cmd', 'hwuitest64'],\n",
    "    \n",
    "    # FTrace events end buffer configuration\n",
    "    \"ftrace\"  : {\n",
    "         \"events\" : [\n",
    "            \"cpu_idle\",\n",
    "            \"cpu_capacity\",\n",
    "            \"cpu_frequency\",\n",
    "            \"sched_switch\",\n",
    "            \"sched_overutilized\",\n",
    "            \"sched_tune_boostgroup_update\",\n",
    "            \"sched_tune_config\",\n",
    "            \"sched_tune_filter\",\n",
    "            \"sched_tune_tasks_update\",\n",
    "            \"sched_boost_cpu\",\n",
    "            \"sched_boost_task\",\n",
    "            \"sched_wakeup\",\n",
    "            \"sched_wakeup_new\",\n",
    "            \"sched_load_avg_cpu\",\n",
    "            \"sched_load_avg_task\",\n",
    "            \"sched_energy_diff\",\n",
    "            \"sched_contrib_scale_f\"\n",
    "         ],\n",
    "         \"buffsize\" : 10240\n",
    "    },\n",
    "\n",
    "}\n",
    "\n",
    "CATAPULT_HOME = '/media/derkling/Patbel01Disk/catapult'"
   ]
  },
  {
   "cell_type": "code",
   "execution_count": null,
   "metadata": {
    "collapsed": false
   },
   "outputs": [],
   "source": [
    "# This is a configuraiton hack required just on Android devices using the\n",
    "# CoPilot \"performance manager\". We need to enable all the CPUs to properly\n",
    "# support:\n",
    "# 1. loading of the 'bl' module, which requires at least a big and a LITTLE\n",
    "#    CPU to be online at the initialization time\n",
    "# 2. RTApp calibration\n",
    "!adb root\n",
    "# !sleep 2\n",
    "# #!adb shell 'echo 4 2 > /proc/hps/num_base_perf_serv'\n",
    "# !adb devices"
   ]
  },
  {
   "cell_type": "code",
   "execution_count": null,
   "metadata": {
    "collapsed": false,
    "scrolled": false
   },
   "outputs": [],
   "source": [
    "# Initialize a test environment using:\n",
    "# the provided target configuration (my_target_conf)\n",
    "# the provided test configuration (my_test_conf)\n",
    "te = TestEnv(my_conf)\n",
    "target = te.target"
   ]
  },
  {
   "cell_type": "code",
   "execution_count": null,
   "metadata": {
    "collapsed": false
   },
   "outputs": [],
   "source": [
    "logging.info(\"Target ABI: %s, CPus: %s\",\n",
    "             target.abi,\n",
    "             target.cpuinfo.cpu_names)"
   ]
  },
  {
   "cell_type": "code",
   "execution_count": null,
   "metadata": {
    "collapsed": false
   },
   "outputs": [],
   "source": [
    "# Remount /system RW\n",
    "target.execute(\"mount -o remount,rw /system\");"
   ]
  },
  {
   "cell_type": "code",
   "execution_count": null,
   "metadata": {
    "collapsed": false
   },
   "outputs": [],
   "source": [
    "# Check which version we have installed\n",
    "installed_atrace = target.get_installed('atrace')\n",
    "md5sum = target.execute(\"md5sum {}\".format(installed_atrace))\n",
    "installed_md5 = md5sum.split()[0]\n",
    "print \"Installed ATrace : \", installed_md5\n",
    "print \"   \", installed_md5\n",
    "\n",
    "# Compute md5 of local version\n",
    "lisa_atrace = \"../../tools/arm64/atrace\"\n",
    "md5sum = !md5sum {lisa_atrace}\n",
    "lisa_md5 = md5sum[0].split()[0]\n",
    "print \"Lisa ATrace      : \", lisa_atrace\n",
    "print \"   \", lisa_md5\n",
    "\n",
    "if lisa_md5 != installed_md5:\n",
    "    print \"Installing LISA provided atrace tool\"\n",
    "    target.execute(\"mv {0} {0}.bak\".format(installed_atrace))\n",
    "    target.push(lisa_atrace, installed_atrace)\n",
    "else:\n",
    "    print \"Installed atrace matched LISA provided tool\""
   ]
  },
  {
   "cell_type": "markdown",
   "metadata": {},
   "source": [
    "# Support Functions"
   ]
  },
  {
   "cell_type": "markdown",
   "metadata": {},
   "source": [
    "## Experiments execution functions"
   ]
  },
  {
   "cell_type": "code",
   "execution_count": null,
   "metadata": {
    "collapsed": false
   },
   "outputs": [],
   "source": [
    "SYSTRACE_CMD  = CATAPULT_HOME + \"/systrace/systrace/systrace.py -o {} gfx view sched freq idle am -t {}\"\n",
    "SYSTRACE_TIME = 5\n",
    "\n",
    "def compare(tid, tcmd, collect='all', governors='all'):\n",
    "    logging.info('Test case: %s (%s)', tid, tcmd)\n",
    "    \n",
    "    res_dir = os.path.join(te.res_dir, tid)\n",
    "    logging.info('  results folder: %s', res_dir)\n",
    "    \n",
    "    # Run the workload in all the configured governors\n",
    "    results[tid] = {}\n",
    "    for governor in confs:\n",
    "        if governors != 'all' and governor not in governors:\n",
    "            continue\n",
    "        exp_dir = os.path.join(res_dir, governor)\n",
    "        res = experiment(governor, tcmd, exp_dir, collect)\n",
    "        results[tid][governor] = copy.deepcopy(res)\n",
    "\n",
    "def experiment(governor, tcmd, exp_dir, collect='all'):\n",
    "    results = {}\n",
    "    \n",
    "    logging.info(\"Experiment: governor=%s, collect=%s\", governor, collect)\n",
    "    \n",
    "    # Ensure all CPUs are online\n",
    "    #target.execute('echo 4 2 > /proc/hps/num_base_perf_serv')\n",
    "    \n",
    "    os.system('mkdir -p {}'.format(exp_dir));\n",
    "    results['exp_dir'] = exp_dir\n",
    "    \n",
    "    logging.info('------------------------')\n",
    "    logging.info('Run workload: %s', tcmd)\n",
    "\n",
    "    # Setup CPUFreq governor\n",
    "    confs[governor]['set']()\n",
    "    logging.info('    governor:\\n%s',\n",
    "                 json.dumps(target.cpufreq.get_all_governors(), indent=4))\n",
    "\n",
    "    # Start the required tracing command\n",
    "    if 'all' in collect or 'ftrace' in collect:\n",
    "        # Start FTrace and Energy monitoring\n",
    "        te.ftrace.start()\n",
    "    elif 'systrace' in collect:\n",
    "        # Start systrace\n",
    "        results['trace_file'] = os.path.join(exp_dir, 'trace.html')\n",
    "        systrace_cmd = SYSTRACE_CMD.format(\n",
    "                                    results['trace_file'], SYSTRACE_TIME)\n",
    "        logging.debug(\"SysTrace CMD: %s\", systrace_cmd)\n",
    "        systrace_output = pe.spawn(systrace_cmd)\n",
    "\n",
    "    # Execte the workload\n",
    "    output = target.execute(tcmd)\n",
    "\n",
    "    # Stop the required trace command\n",
    "    if 'all' in collect or 'ftrace' in collect:\n",
    "        te.ftrace.stop()\n",
    "    elif 'systrace' in collect:\n",
    "        logging.info('Waiting systrace report [%s]...', results['trace_file'])\n",
    "        systrace_output.wait()\n",
    "    \n",
    "    if 'all' in collect or 'stats' in collect:\n",
    "        # Processing test resuts\n",
    "        logging.info('Parsing experiment results...')\n",
    "        df = dataframe(output)\n",
    "        results['df'] = df\n",
    "    \n",
    "        # Computing stats\n",
    "        logging.info('Computing execution stats...')\n",
    "        results['stats'] = stats(df)\n",
    "    \n",
    "    # Dump platform description\n",
    "    te.platform_dump(exp_dir)\n",
    "    \n",
    "    # Collect and keep track of the trace\n",
    "    if 'all' in collect or 'ftrace' in collect:\n",
    "        logging.info('Collecting FTrace events...')\n",
    "        trace_file = os.path.join(exp_dir, 'trace.dat')\n",
    "        te.ftrace.get_trace(trace_file)\n",
    "        results['trace_file'] = trace_file        \n",
    "    \n",
    "    # Parse trace\n",
    "    if 'all' in collect or 'trace_analysis' in collect:\n",
    "        logging.info('Trace analysis...')\n",
    "        tr = Trace(te.platform, results['trace_file'],\n",
    "                   events=my_conf['ftrace']['events'],\n",
    "                   trace_format='SysTrace')\n",
    "        results['trace'] = tr\n",
    "        results['ftrace'] = tr.ftrace\n",
    "        results['ta'] = TraceAnalysis(tr, te.platform)\n",
    "    \n",
    "        # return all the experiment data\n",
    "    return results\n",
    "\n",
    "def set_performance():\n",
    "    target.cpufreq.set_all_governors('performance')\n",
    "    \n",
    "def set_powersave():\n",
    "    target.cpufreq.set_all_governors('powersave')\n",
    "\n",
    "def set_sched():\n",
    "    target.cpufreq.set_all_governors('sched')\n",
    "\n",
    "def set_ondemand():\n",
    "    target.cpufreq.set_all_governors('ondemand')\n",
    "    \n",
    "    # Configure the MAX sampling rate supporte by the LITTLE cores\n",
    "    littles_tunables = target.cpufreq.get_governor_tunables(\n",
    "                            target.bl.littles[0])\n",
    "    target.cpufreq.set_governor_tunables(\n",
    "        target.bl.littles[0], 'ondemand',\n",
    "        **{'sampling_rate' : littles_tunables['sampling_rate_min']}\n",
    "    )\n",
    "    \n",
    "    # Configure the MAX sampling rate supporte by the big cores\n",
    "    bigs_tunables = target.cpufreq.get_governor_tunables(\n",
    "                            target.bl.bigs[0])\n",
    "    target.cpufreq.set_governor_tunables(\n",
    "        target.bl.bigs[0], 'ondemand',\n",
    "        **{'sampling_rate' : bigs_tunables['sampling_rate_min']}\n",
    "    )\n",
    "    \n",
    "def set_interactive():\n",
    "    target.cpufreq.set_all_governors('interactive')\n",
    "   "
   ]
  },
  {
   "cell_type": "markdown",
   "metadata": {},
   "source": [
    "## Collected data analysis and plotting functions"
   ]
  },
  {
   "cell_type": "code",
   "execution_count": null,
   "metadata": {
    "collapsed": false
   },
   "outputs": [],
   "source": [
    "def dataframe(results):\n",
    "    stats = {}\n",
    "    for line in results.splitlines():\n",
    "        if ':' not in line:\n",
    "            continue\n",
    "        k, v = line.split(':')\n",
    "        \n",
    "        v = v.replace('ns', '')\n",
    "        v = v.replace('ms', '')\n",
    "        v = v.translate(None, ':()%')\n",
    "\n",
    "        #print \"{:25} : {}\".format(k,v)\n",
    "    \n",
    "        if k not in stats:\n",
    "            stats[k] = []\n",
    "        if k == \"Janky frames\":\n",
    "                v1, v2 = v.split()\n",
    "                stats[k].append(float(v1))\n",
    "                k2 = k+' pct'\n",
    "                if k2 not in stats:\n",
    "                    stats[k+' pct'] = []\n",
    "                stats[k+' pct'].append(float(v2))\n",
    "        else:\n",
    "            stats[k].append(float(v))\n",
    "    #print json.dumps(stats, indent=4)\n",
    "\n",
    "    df = pd.DataFrame.from_dict(stats)\n",
    "    return df\n",
    "\n",
    "def stats(df):\n",
    "    return df.mean()[['Janky frames pct', 'Number Missed Vsync']]\n",
    "\n",
    "def reportPlot(tid, collect):\n",
    "    global results\n",
    "    \n",
    "    templates = [trappy.sched.SchedLoadAvgCpu, trappy.sched.SchedCpuCapacity]\n",
    "    column = [\"util_avg\", \"state\"]\n",
    "    for governor in confs:\n",
    "        if governor not in results[tid]:\n",
    "            continue\n",
    "        plot_title = \"{} Governor\".format(governor.upper())\n",
    "        trappy.LinePlot(results[tid][governor]['ftrace'],\n",
    "                        templates,\n",
    "                        column=column,\n",
    "                        pivot=\"cpu\",\n",
    "                        #filters={\"cpu\": [1]},\n",
    "                        marker = '+',\n",
    "                        drawstyle='steps-post',\n",
    "                        title=plot_title,\n",
    "                        ylim=(0, 1100)).view()\n",
    "    \n",
    "def reportTracePlots(tid, select):\n",
    "    global results\n",
    "    filters = None\n",
    "    \n",
    "    pd.options.mode.chained_assignment = None  # default='warn'\n",
    "\n",
    "    # Plot Custer Frequencies and report averate frequencies\n",
    "    for governor in confs:\n",
    "        if governor not in results[tid]:\n",
    "            continue\n",
    "        plot_title = \"Cluster frequencies, {}\".format(governor.upper())\n",
    "        ta = results[tid][governor]['ta']\n",
    "        logging.info(\"%s:\", plot_title)\n",
    "        ta.plotClusterFrequencies(title=plot_title)\n",
    "        \n",
    "    # Plot topBigTasks\n",
    "    for governor in confs:\n",
    "        if governor not in results[tid]:\n",
    "            continue\n",
    "        if filters is None:\n",
    "            trace = results[tid][governor]['trace']\n",
    "            filters = Filters(trace)\n",
    "        \n",
    "        LITTLE_MAX_CAPACITY=nrg_model['little']['cpu']['cap_max']\n",
    "        BIG_MIN_CAPACITY=nrg_model['big']['cpu']['cap_min']\n",
    "        plot_title = \"Top big tasks, {}\".format(governor.upper())\n",
    "        print plot_title\n",
    "        filters.topBigTasks(min_utilization=BIG_MIN_CAPACITY)\n",
    "        filters.plotBigTasks(min_utilization=BIG_MIN_CAPACITY)\n",
    "\n",
    "    # Plot top Wakeup tasks\n",
    "    for governor in confs:\n",
    "        if governor not in results[tid]:\n",
    "            continue\n",
    "        if filters is None:\n",
    "            trace = results[tid][governor]['trace']\n",
    "            filters = Filters(trace)\n",
    "        \n",
    "        plot_title = \"Top wakeup tasks, {}\".format(governor.upper())\n",
    "        print plot_title\n",
    "        filters.topWakeupTasks()\n",
    "        filters.plotWakeupTasks()\n",
    "        filters.plotWakeupTasks(per_cluster=True)\n",
    "        \n",
    "    # Plot Tasks vs Frequency\n",
    "    for governor in confs:\n",
    "        if governor not in results[tid]:\n",
    "            continue\n",
    "        if filters is None:\n",
    "            trace = results[tid][governor]['trace']\n",
    "            filters = Filters(trace)\n",
    "        \n",
    "        plot_title = \"Tasks vs Frequency, {}\".format(governor.upper())\n",
    "        print plot_title\n",
    "        print filters.plotTasksVsFrequency()\n",
    "\n",
    "    # Report RT tasks\n",
    "    #for governor in confs:\n",
    "    #    if governor not in results[tid]:\n",
    "    #        continue\n",
    "    #    if filters is None:\n",
    "    #        trace = results[tid][governor]['trace']\n",
    "    #        filters = Filters(trace)\n",
    "    #    plot_title = \"RT Tasks, {}\".format(governor.upper())\n",
    "    #    print plot_title\n",
    "    #    filters.rtTasks()\n",
    "\n",
    "        \n",
    "def reportStats(tid, select):\n",
    "    global results\n",
    "\n",
    "    # Plot Custer Frequencies and report averate frequencies\n",
    "    for governor in confs:\n",
    "        if governor not in results[tid]:\n",
    "            continue\n",
    "        st = results[tid][governor]['stats']\n",
    "        print\n",
    "        print \"Stats, {}\".format(governor.upper())\n",
    "        print st\n",
    "    \n",
    "def report(tid, select='all'):\n",
    "    if 'all' in select or 'ftrace' in select:\n",
    "        reportPlot(tid, select)\n",
    "    if 'all' in select or 'ftrace' in select:\n",
    "        reportTracePlots(tid, select)\n",
    "    if 'all' in select or 'stats' in select:\n",
    "        reportStats(tid, select)\n",
    "        \n",
    "        \n",
    "def getFTrace(tid, governor):\n",
    "    return results[tid][governor]['ftrace']"
   ]
  },
  {
   "cell_type": "markdown",
   "metadata": {},
   "source": [
    "## Target configurations to explore"
   ]
  },
  {
   "cell_type": "code",
   "execution_count": null,
   "metadata": {
    "collapsed": false
   },
   "outputs": [],
   "source": [
    "# CPUFreq configurations to test\n",
    "confs = {\n",
    "    'performance' : {\n",
    "        'label' : 'prf',\n",
    "        'set' :  set_performance,\n",
    "    },\n",
    "#     'powersave' : {\n",
    "#         'label' : 'sch',\n",
    "#         'set' :  set_powersave,\n",
    "#     },\n",
    "    'sched' : {\n",
    "        'label' : 'sch',\n",
    "        'set' :  set_sched,\n",
    "#     },\n",
    "#     'ondemand' : {\n",
    "#         'label' : 'odm',\n",
    "#         'set' :  set_ondemand,\n",
    "#    },\n",
    "#    'interactive' : {\n",
    "#        'label' : 'itr',\n",
    "#        'set' :  set_interactive,\n",
    "    }\n",
    "}\n",
    "\n",
    "# The set of results forlder for each comparition test\n",
    "results = {}"
   ]
  },
  {
   "cell_type": "markdown",
   "metadata": {},
   "source": [
    "# Test: ShadowGrid2"
   ]
  },
  {
   "cell_type": "code",
   "execution_count": null,
   "metadata": {
    "collapsed": false
   },
   "outputs": [],
   "source": [
    "hwuitest64 = target.get_installed('hwuitest64')\n",
    "print hwuitest64"
   ]
  },
  {
   "cell_type": "markdown",
   "metadata": {
    "heading_collapsed": true
   },
   "source": [
    "## Stats on multiple run executions"
   ]
  },
  {
   "cell_type": "code",
   "execution_count": null,
   "metadata": {
    "collapsed": false,
    "run_control": {
     "marked": false
    },
    "scrolled": false
   },
   "outputs": [],
   "source": [
    "# Define a label for this test case\n",
    "test_case = 'shadowgrid2'\n",
    "test_cmd  = '{} {}'.format(hwuitest64, 'shadowgrid2 10')\n",
    "features = 'stats'\n",
    "\n",
    "# Run this workload in all the configurations\n",
    "compare(test_case, test_cmd, collect=features)"
   ]
  },
  {
   "cell_type": "code",
   "execution_count": null,
   "metadata": {
    "collapsed": false,
    "scrolled": false
   },
   "outputs": [],
   "source": [
    "report(test_case, select=features)"
   ]
  },
  {
   "cell_type": "markdown",
   "metadata": {},
   "source": [
    "## Trace analysis on SchedDVFS (single run)"
   ]
  },
  {
   "cell_type": "code",
   "execution_count": null,
   "metadata": {
    "collapsed": false,
    "scrolled": false
   },
   "outputs": [],
   "source": [
    "# Define a label for this test case\n",
    "test_case = 'shadowgrid2'\n",
    "test_cmd  = '{} {}'.format(hwuitest64, 'shadowgrid2 1')\n",
    "features = 'systrace_analysis'\n",
    "\n",
    "# Run this workload in all the configurations\n",
    "compare(test_case, test_cmd, collect=features, governors='sched')"
   ]
  },
  {
   "cell_type": "code",
   "execution_count": null,
   "metadata": {
    "collapsed": false,
    "scrolled": false
   },
   "outputs": [],
   "source": [
    "report(test_case, select=features)"
   ]
  },
  {
   "cell_type": "code",
   "execution_count": null,
   "metadata": {
    "collapsed": false
   },
   "outputs": [],
   "source": [
    "ftrace = getFTrace(test_case, 'sched')"
   ]
  },
  {
   "cell_type": "code",
   "execution_count": null,
   "metadata": {
    "collapsed": false
   },
   "outputs": [],
   "source": [
    "trappy.plotter.plot_trace(ftrace)"
   ]
  },
  {
   "cell_type": "markdown",
   "metadata": {},
   "source": [
    "## Render thread analysis"
   ]
  },
  {
   "cell_type": "code",
   "execution_count": null,
   "metadata": {
    "collapsed": false
   },
   "outputs": [],
   "source": [
    "trappy.plotter.plot_trace(ftrace, execnames=['RenderThread'])"
   ]
  },
  {
   "cell_type": "markdown",
   "metadata": {
    "heading_collapsed": true
   },
   "source": [
    "## Big tasks analysis"
   ]
  },
  {
   "cell_type": "code",
   "execution_count": null,
   "metadata": {
    "collapsed": false
   },
   "outputs": [],
   "source": [
    "trace = results[test_case]['sched']['trace']\n",
    "filters = Filters(trace)\n",
    "        \n",
    "filters.topBigTasks(min_utilization=100)\n",
    "filters.plotBigTasks(min_utilization=100)\n",
    "\n",
    "\n",
    "ta = results[test_case]['sched']['ta']\n",
    "ta.plotClusterFrequencies()"
   ]
  },
  {
   "cell_type": "code",
   "execution_count": null,
   "metadata": {
    "collapsed": false
   },
   "outputs": [],
   "source": [
    "trappy.plotter.plot_trace(ftrace, execnames=['surfaceflinger'])"
   ]
  },
  {
   "cell_type": "markdown",
   "metadata": {
    "heading_collapsed": true
   },
   "source": [
    "## Boosted tasks analysis"
   ]
  },
  {
   "cell_type": "code",
   "execution_count": null,
   "metadata": {
    "collapsed": false
   },
   "outputs": [],
   "source": [
    "boost_events = ftrace.sched_boost_task.data_frame\n",
    "boost_events.head()"
   ]
  },
  {
   "cell_type": "code",
   "execution_count": null,
   "metadata": {
    "collapsed": false
   },
   "outputs": [],
   "source": [
    "boosted_tasks = boost_events[boost_events.margin != 0][['pid', 'comm', 'util', 'boosted_util']]\n",
    "logging.info(\"Boos events:\")\n",
    "boosted_tasks.head()"
   ]
  },
  {
   "cell_type": "code",
   "execution_count": null,
   "metadata": {
    "collapsed": false
   },
   "outputs": [],
   "source": [
    "little_max_cap = nrg_model['little']['cpu']['cap_max']\n",
    "logging.info(\"Boost events exceeding the LITTLE capacity:\")\n",
    "big_boosted_tasks = boosted_tasks[boosted_tasks.boosted_utilization > little_max_cap]\n",
    "big_boosted_tasks.head()"
   ]
  },
  {
   "cell_type": "code",
   "execution_count": null,
   "metadata": {
    "collapsed": false
   },
   "outputs": [],
   "source": [
    "# Define the aggregation calculations\n",
    "aggregations = {\n",
    "    'utilization': {\n",
    "        'min'  : 'min',\n",
    "        'avg'  : 'mean',\n",
    "        'max'  : 'max',\n",
    "    },\n",
    "    'boosted_utilization': {\n",
    "        'min'  : 'min',\n",
    "        'avg'  : 'mean',\n",
    "        'max'  : 'max',\n",
    "    },\n",
    "    'pid': ['count'],\n",
    "    'comm' : {\n",
    "        'task_name' : 'max'\n",
    "    }\n",
    "}\n",
    "big_boosted_tasks_stats = big_boosted_tasks.groupby('pid').agg(aggregations)\n",
    "big_boosted_tasks_stats"
   ]
  },
  {
   "cell_type": "code",
   "execution_count": null,
   "metadata": {
    "collapsed": false
   },
   "outputs": [],
   "source": [
    "logging.info(\"Tasks running on big CPUs\")\n",
    "switch_events = ftrace.sched_switch.data_frame\n",
    "switch_events.head()"
   ]
  },
  {
   "cell_type": "code",
   "execution_count": null,
   "metadata": {
    "collapsed": false
   },
   "outputs": [],
   "source": [
    "switch_event[switch_events.__cpu ]"
   ]
  },
  {
   "cell_type": "code",
   "execution_count": null,
   "metadata": {
    "collapsed": true
   },
   "outputs": [],
   "source": []
  },
  {
   "cell_type": "code",
   "execution_count": null,
   "metadata": {
    "collapsed": true
   },
   "outputs": [],
   "source": [
    "trace = results[test_case]['sched']['trace']"
   ]
  },
  {
   "cell_type": "code",
   "execution_count": null,
   "metadata": {
    "collapsed": false
   },
   "outputs": [],
   "source": [
    "trace.getTasks()"
   ]
  },
  {
   "cell_type": "code",
   "execution_count": null,
   "metadata": {
    "collapsed": false
   },
   "outputs": [],
   "source": [
    "print results[test_case]['sched']['trace_file']"
   ]
  },
  {
   "cell_type": "code",
   "execution_count": null,
   "metadata": {
    "collapsed": false
   },
   "outputs": [],
   "source": [
    "!ls -la /home/patbel01/Code/schedtest/results/20151125_163250/shadowgrid2/sched/trace.dat"
   ]
  },
  {
   "cell_type": "code",
   "execution_count": null,
   "metadata": {
    "collapsed": true
   },
   "outputs": [],
   "source": []
  }
 ],
 "metadata": {
  "kernelspec": {
   "display_name": "Python 2",
   "language": "python",
   "name": "python2"
  },
  "language_info": {
   "codemirror_mode": {
    "name": "ipython",
    "version": 2
   },
   "file_extension": ".py",
   "mimetype": "text/x-python",
   "name": "python",
   "nbconvert_exporter": "python",
   "pygments_lexer": "ipython2",
   "version": "2.7.9"
  },
  "toc": {
   "toc_cell": false,
   "toc_number_sections": true,
   "toc_threshold": 6,
   "toc_window_display": false
  }
 },
 "nbformat": 4,
 "nbformat_minor": 0
}
