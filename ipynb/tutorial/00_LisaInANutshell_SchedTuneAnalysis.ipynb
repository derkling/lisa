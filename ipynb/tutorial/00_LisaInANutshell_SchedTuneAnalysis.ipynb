{
 "cells": [
  {
   "cell_type": "code",
   "execution_count": 1,
   "metadata": {
    "collapsed": false
   },
   "outputs": [
    {
     "name": "stdout",
     "output_type": "stream",
     "text": [
      "Populating the interactive namespace from numpy and matplotlib\n"
     ]
    }
   ],
   "source": [
    "%pylab inline"
   ]
  },
  {
   "cell_type": "markdown",
   "metadata": {},
   "source": [
    "# Trace inspection"
   ]
  },
  {
   "cell_type": "code",
   "execution_count": 2,
   "metadata": {
    "collapsed": true
   },
   "outputs": [],
   "source": [
    "res_dir = '../../results/SchedTuneAnalysis/'\n",
    "noboost_trace = res_dir + 'trace_noboost.dat'\n",
    "boost15_trace = res_dir + 'trace_boost15.dat'\n",
    "boost25_trace = res_dir + 'trace_boost25.dat'\n",
    "\n",
    "trace_file = noboost_trace\n",
    "# trace_file = boost15_trace\n",
    "# trace_file = boost25_trace"
   ]
  },
  {
   "cell_type": "markdown",
   "metadata": {},
   "source": [
    "## Loading support data collected from the target"
   ]
  },
  {
   "cell_type": "code",
   "execution_count": 3,
   "metadata": {
    "collapsed": false
   },
   "outputs": [
    {
     "name": "stdout",
     "output_type": "stream",
     "text": [
      "Platform descriptio collected from the target:\n",
      "{\n",
      "    \"nrg_model\": {\n",
      "        \"big\": {\n",
      "            \"cluster\": {\n",
      "                \"nrg_max\": 64\n",
      "            }, \n",
      "            \"cpu\": {\n",
      "                \"cap_max\": 1024, \n",
      "                \"nrg_max\": 616\n",
      "            }\n",
      "        }, \n",
      "        \"little\": {\n",
      "            \"cluster\": {\n",
      "                \"nrg_max\": 57\n",
      "            }, \n",
      "            \"cpu\": {\n",
      "                \"cap_max\": 447, \n",
      "                \"nrg_max\": 93\n",
      "            }\n",
      "        }\n",
      "    }, \n",
      "    \"clusters\": {\n",
      "        \"big\": [\n",
      "            1, \n",
      "            2\n",
      "        ], \n",
      "        \"little\": [\n",
      "            0, \n",
      "            3, \n",
      "            4, \n",
      "            5\n",
      "        ]\n",
      "    }, \n",
      "    \"cpus_count\": 6, \n",
      "    \"freqs\": {\n",
      "        \"big\": [\n",
      "            450000, \n",
      "            625000, \n",
      "            800000, \n",
      "            950000, \n",
      "            1100000\n",
      "        ], \n",
      "        \"little\": [\n",
      "            450000, \n",
      "            575000, \n",
      "            700000, \n",
      "            775000, \n",
      "            850000\n",
      "        ]\n",
      "    }, \n",
      "    \"topology\": [\n",
      "        [\n",
      "            0, \n",
      "            3, \n",
      "            4, \n",
      "            5\n",
      "        ], \n",
      "        [\n",
      "            1, \n",
      "            2\n",
      "        ]\n",
      "    ]\n",
      "}\n"
     ]
    }
   ],
   "source": [
    "import json\n",
    "\n",
    "# Load the platform information\n",
    "with open('../../results/SchedTuneAnalysis/platform.json', 'r') as fh:\n",
    "    platform = json.load(fh)\n",
    "print \"Platform descriptio collected from the target:\"\n",
    "print json.dumps(platform, indent=4)"
   ]
  },
  {
   "cell_type": "code",
   "execution_count": 4,
   "metadata": {
    "collapsed": true
   },
   "outputs": [],
   "source": [
    "from trappy.stats.Topology import Topology\n",
    "\n",
    "# Create a topology descriptor\n",
    "topology = Topology(platform['topology'])"
   ]
  },
  {
   "cell_type": "markdown",
   "metadata": {},
   "source": [
    "# Workload behaviors check"
   ]
  },
  {
   "cell_type": "markdown",
   "metadata": {},
   "source": [
    "## Does the task has the expected behavior?"
   ]
  },
  {
   "cell_type": "markdown",
   "metadata": {},
   "source": [
    "We want to ensure that the task has the expected workload:<br>\n",
    "- LITTLE CPU bandwidth of **[10, 35 and 60]%** every **2[ms]**\n",
    "- activations every **32ms**\n",
    "- always **starts on a big** core"
   ]
  },
  {
   "cell_type": "markdown",
   "metadata": {},
   "source": [
    "### Using kernelshark"
   ]
  },
  {
   "cell_type": "code",
   "execution_count": 5,
   "metadata": {
    "collapsed": false
   },
   "outputs": [
    {
     "name": "stdout",
     "output_type": "stream",
     "text": [
      "version = 6\r\n"
     ]
    }
   ],
   "source": [
    "# Let's look at the trace using kernelshark...\n",
    "!kernelshark {trace_file} 2>/dev/null"
   ]
  },
  {
   "cell_type": "markdown",
   "metadata": {},
   "source": [
    "- Requires a lot of interactions and hand made measurements\n",
    "- We cannot easily annotate our findings to produre a sharable notebook"
   ]
  },
  {
   "cell_type": "markdown",
   "metadata": {},
   "source": [
    "### Using the TRAPpy Trace Plotter"
   ]
  },
  {
   "cell_type": "markdown",
   "metadata": {},
   "source": [
    "An overall view on the trace is still useful to get a graps on what we are looking at."
   ]
  },
  {
   "cell_type": "code",
   "execution_count": 6,
   "metadata": {
    "code_folding": [],
    "collapsed": false
   },
   "outputs": [
    {
     "data": {
      "text/html": [
       "<style>\n",
       "/*\n",
       "\n",
       " *    Copyright 2015-2016 ARM Limited\n",
       "\n",
       " *\n",
       "\n",
       " * Licensed under the Apache License, Version 2.0 (the \"License\");\n",
       "\n",
       " * you may not use this file except in compliance with the License.\n",
       "\n",
       " * You may obtain a copy of the License at\n",
       "\n",
       " *\n",
       "\n",
       " *     http://www.apache.org/licenses/LICENSE-2.0\n",
       "\n",
       " *\n",
       "\n",
       " * Unless required by applicable law or agreed to in writing, software\n",
       "\n",
       " * distributed under the License is distributed on an \"AS IS\" BASIS,\n",
       "\n",
       " * WITHOUT WARRANTIES OR CONDITIONS OF ANY KIND, either express or implied.\n",
       "\n",
       " * See the License for the specific language governing permissions and\n",
       "\n",
       " * limitations under the License.\n",
       "\n",
       " */\n",
       "\n",
       "\n",
       "\n",
       ".d3-tip {\n",
       "\n",
       "  line-height: 1;\n",
       "\n",
       "  padding: 12px;\n",
       "\n",
       "  background: rgba(0, 0, 0, 0.6);\n",
       "\n",
       "  color: #fff;\n",
       "\n",
       "  border-radius: 2px;\n",
       "\n",
       "  position: absolute !important;\n",
       "\n",
       "  z-index: 99999;\n",
       "\n",
       "}\n",
       "\n",
       "\n",
       "\n",
       ".d3-tip:after {\n",
       "\n",
       "  box-sizing: border-box;\n",
       "\n",
       "  pointer-events: none;\n",
       "\n",
       "  display: inline;\n",
       "\n",
       "  font-size: 10px;\n",
       "\n",
       "  width: 100%;\n",
       "\n",
       "  line-height: 1;\n",
       "\n",
       "  color: rgba(0, 0, 0, 0.6);\n",
       "\n",
       "  content: \"\\25BC\";\n",
       "\n",
       "  position: absolute !important;\n",
       "\n",
       "  z-index: 99999;\n",
       "\n",
       "  text-align: center;\n",
       "\n",
       "}\n",
       "\n",
       "\n",
       "\n",
       ".d3-tip.n:after {\n",
       "\n",
       "  margin: -1px 0 0 0;\n",
       "\n",
       "  top: 100%;\n",
       "\n",
       "  left: 0;\n",
       "\n",
       "}\n",
       "\n",
       "\n",
       "\n",
       ".contextRect {\n",
       "\n",
       "  fill: lightgray;\n",
       "\n",
       "  fill-opacity: 0.5;\n",
       "\n",
       "  stroke: black;\n",
       "\n",
       "  stroke-width: 1;\n",
       "\n",
       "  stroke-opacity: 1;\n",
       "\n",
       "  pointer-events: none;\n",
       "\n",
       "  shape-rendering: crispEdges;\n",
       "\n",
       "}\n",
       "\n",
       "\n",
       "\n",
       ".chart {\n",
       "\n",
       "  shape-rendering: crispEdges;\n",
       "\n",
       "}\n",
       "\n",
       "\n",
       "\n",
       ".mini text {\n",
       "\n",
       "  font: 9px sans-serif;\n",
       "\n",
       "}\n",
       "\n",
       "\n",
       "\n",
       ".main text {\n",
       "\n",
       "  font: 12px sans-serif;\n",
       "\n",
       "}\n",
       "\n",
       "\n",
       "\n",
       ".axis line, .axis path {\n",
       "\n",
       "  stroke: black;\n",
       "\n",
       "}\n",
       "\n",
       "\n",
       "\n",
       ".miniItem {\n",
       "\n",
       "  stroke-width: 8;\n",
       "\n",
       "}\n",
       "\n",
       "\n",
       "\n",
       ".brush .extent {\n",
       "\n",
       "\n",
       "\n",
       "  stroke: #000;\n",
       "\n",
       "  fill-opacity: .125;\n",
       "\n",
       "  shape-rendering: crispEdges;\n",
       "\n",
       "}\n",
       "\n",
       "</style>\n",
       "<div id=\"fig_cf1f3f716c0b4d84a1d33655c6168a8f\" class=\"eventplot\">\n",
       "        <script>\n",
       "            var req = require.config( {\n",
       "\n",
       "                paths: {\n",
       "\n",
       "                    \"EventPlot\": '/nbextensions/plotter_scripts/EventPlot/EventPlot',\n",
       "                    \"d3-tip\": '/nbextensions/plotter_scripts/EventPlot/d3.tip.v0.6.3',\n",
       "                    \"d3-plotter\": '/nbextensions/plotter_scripts/EventPlot/d3.min'\n",
       "                },\n",
       "                shim: {\n",
       "                    \"d3-plotter\" : {\n",
       "                        \"exports\" : \"d3\"\n",
       "                    },\n",
       "                    \"d3-tip\": [\"d3-plotter\"],\n",
       "                    \"EventPlot\": {\n",
       "\n",
       "                        \"deps\": [\"d3-tip\", \"d3-plotter\" ],\n",
       "                        \"exports\":  \"EventPlot\"\n",
       "                    }\n",
       "                }\n",
       "            });\n",
       "            req([\"require\", \"EventPlot\"], function() {\n",
       "               EventPlot.generate('fig_cf1f3f716c0b4d84a1d33655c6168a8f', '/nbextensions/');\n",
       "            });\n",
       "        </script>\n",
       "        </div>"
      ],
      "text/plain": [
       "<IPython.core.display.HTML object>"
      ]
     },
     "metadata": {},
     "output_type": "display_data"
    }
   ],
   "source": [
    "# Suport for FTrace events parsing and visualization\n",
    "import trappy\n",
    "\n",
    "# NOTE: The interactive trace visualization is available only if you run\n",
    "#       the workload to generate a new trace-file\n",
    "trappy.plotter.plot_trace(trace_file)#, execnames=\"task_ramp\")#, pids=[1971])"
   ]
  },
  {
   "cell_type": "markdown",
   "metadata": {},
   "source": [
    "## What is the task utilization?"
   ]
  },
  {
   "cell_type": "markdown",
   "metadata": {},
   "source": [
    "The **sched_load_avg_task** trace events reports this information"
   ]
  },
  {
   "cell_type": "code",
   "execution_count": 7,
   "metadata": {
    "collapsed": false
   },
   "outputs": [
    {
     "name": "stdout",
     "output_type": "stream",
     "text": [
      "First 5 sched_load_avg events:\n",
      "       trace-cmd-1960  [000]  1176.704113: sched_load_avg_task:  comm=trace-cmd pid=1960 cpu=0 load_avg=339 util_avg=135 util_est=135 load_sum=16222383 util_sum=6452317 period_contrib=1014\n",
      "       trace-cmd-1960  [000]  1176.704140: sched_load_avg_task:  comm=trace-cmd pid=1960 cpu=0 load_avg=339 util_avg=135 util_est=135 load_sum=16222383 util_sum=6452317 period_contrib=1014\n",
      "          <idle>-0     [002]  1176.704396: sched_load_avg_task:  comm=sudo pid=1959 cpu=2 load_avg=0 util_avg=0 util_est=903 load_sum=6 util_sum=6 period_contrib=140\n",
      "            sudo-1959  [002]  1176.704644: sched_load_avg_task:  comm=sudo pid=1959 cpu=2 load_avg=0 util_avg=0 util_est=903 load_sum=122886 util_sum=122886 period_contrib=434\n",
      "          <idle>-0     [000]  1176.704847: sched_load_avg_task:  comm=rcu_preempt pid=7 cpu=0 load_avg=29 util_avg=11 util_est=12 load_sum=1418473 util_sum=556028 period_contrib=562\n",
      "grep: write error\n"
     ]
    }
   ],
   "source": [
    "# Get a list of first 5 \"sched_load_avg_events\" events\n",
    "sched_load_avg_events = !(\\\n",
    "    grep sched_load_avg_task {trace_file.replace('.dat', '.txt')} | \\\n",
    "    head -n5 \\\n",
    ")\n",
    " \n",
    "print \"First 5 sched_load_avg events:\"\n",
    "for line in sched_load_avg_events:\n",
    "    print line"
   ]
  },
  {
   "cell_type": "markdown",
   "metadata": {},
   "source": [
    "A graphical representation whould be really usefuly!"
   ]
  },
  {
   "cell_type": "markdown",
   "metadata": {},
   "source": [
    "### Generate DataFrames from Trace Events"
   ]
  },
  {
   "cell_type": "code",
   "execution_count": 8,
   "metadata": {
    "collapsed": false
   },
   "outputs": [],
   "source": [
    "# Load the LISA::Trace parsing module\n",
    "from trace import Trace\n",
    "\n",
    "# Define which event we are interested into\n",
    "trace = Trace(platform, trace_file, [\n",
    "            \"sched_switch\",\n",
    "            \"sched_load_avg_cpu\",\n",
    "            \"sched_load_avg_task\",\n",
    "            \"sched_boost_cpu\",\n",
    "            \"sched_boost_task\",\n",
    "            \"cpu_frequency\",\n",
    "            \"cpu_capacity\",\n",
    "    ])"
   ]
  },
  {
   "cell_type": "markdown",
   "metadata": {},
   "source": [
    "### Get the DataFrames for the events of interest"
   ]
  },
  {
   "cell_type": "code",
   "execution_count": 9,
   "metadata": {
    "collapsed": false
   },
   "outputs": [
    {
     "data": {
      "text/html": [
       "<div>\n",
       "<table border=\"1\" class=\"dataframe\">\n",
       "  <thead>\n",
       "    <tr style=\"text-align: right;\">\n",
       "      <th></th>\n",
       "      <th>__comm</th>\n",
       "      <th>__cpu</th>\n",
       "      <th>__pid</th>\n",
       "      <th>comm</th>\n",
       "      <th>cpu</th>\n",
       "      <th>load_avg</th>\n",
       "      <th>load_sum</th>\n",
       "      <th>period_contrib</th>\n",
       "      <th>pid</th>\n",
       "      <th>util_avg</th>\n",
       "      <th>util_est</th>\n",
       "      <th>util_sum</th>\n",
       "      <th>cluster</th>\n",
       "    </tr>\n",
       "    <tr>\n",
       "      <th>Time</th>\n",
       "      <th></th>\n",
       "      <th></th>\n",
       "      <th></th>\n",
       "      <th></th>\n",
       "      <th></th>\n",
       "      <th></th>\n",
       "      <th></th>\n",
       "      <th></th>\n",
       "      <th></th>\n",
       "      <th></th>\n",
       "      <th></th>\n",
       "      <th></th>\n",
       "      <th></th>\n",
       "    </tr>\n",
       "  </thead>\n",
       "  <tbody>\n",
       "    <tr>\n",
       "      <th>0.000132</th>\n",
       "      <td>trace-cmd</td>\n",
       "      <td>0</td>\n",
       "      <td>1960</td>\n",
       "      <td>trace-cmd</td>\n",
       "      <td>0</td>\n",
       "      <td>339</td>\n",
       "      <td>16222383</td>\n",
       "      <td>1014</td>\n",
       "      <td>1960</td>\n",
       "      <td>135</td>\n",
       "      <td>135</td>\n",
       "      <td>6452317</td>\n",
       "      <td>LITTLE</td>\n",
       "    </tr>\n",
       "    <tr>\n",
       "      <th>0.000159</th>\n",
       "      <td>trace-cmd</td>\n",
       "      <td>0</td>\n",
       "      <td>1960</td>\n",
       "      <td>trace-cmd</td>\n",
       "      <td>0</td>\n",
       "      <td>339</td>\n",
       "      <td>16222383</td>\n",
       "      <td>1014</td>\n",
       "      <td>1960</td>\n",
       "      <td>135</td>\n",
       "      <td>135</td>\n",
       "      <td>6452317</td>\n",
       "      <td>LITTLE</td>\n",
       "    </tr>\n",
       "    <tr>\n",
       "      <th>0.000415</th>\n",
       "      <td>&lt;idle&gt;</td>\n",
       "      <td>2</td>\n",
       "      <td>0</td>\n",
       "      <td>sudo</td>\n",
       "      <td>2</td>\n",
       "      <td>0</td>\n",
       "      <td>6</td>\n",
       "      <td>140</td>\n",
       "      <td>1959</td>\n",
       "      <td>0</td>\n",
       "      <td>903</td>\n",
       "      <td>6</td>\n",
       "      <td>big</td>\n",
       "    </tr>\n",
       "    <tr>\n",
       "      <th>0.000663</th>\n",
       "      <td>sudo</td>\n",
       "      <td>2</td>\n",
       "      <td>1959</td>\n",
       "      <td>sudo</td>\n",
       "      <td>2</td>\n",
       "      <td>0</td>\n",
       "      <td>122886</td>\n",
       "      <td>434</td>\n",
       "      <td>1959</td>\n",
       "      <td>0</td>\n",
       "      <td>903</td>\n",
       "      <td>122886</td>\n",
       "      <td>big</td>\n",
       "    </tr>\n",
       "    <tr>\n",
       "      <th>0.000866</th>\n",
       "      <td>&lt;idle&gt;</td>\n",
       "      <td>0</td>\n",
       "      <td>0</td>\n",
       "      <td>rcu_preempt</td>\n",
       "      <td>0</td>\n",
       "      <td>29</td>\n",
       "      <td>1418473</td>\n",
       "      <td>562</td>\n",
       "      <td>7</td>\n",
       "      <td>11</td>\n",
       "      <td>12</td>\n",
       "      <td>556028</td>\n",
       "      <td>LITTLE</td>\n",
       "    </tr>\n",
       "  </tbody>\n",
       "</table>\n",
       "</div>"
      ],
      "text/plain": [
       "             __comm  __cpu  __pid         comm  cpu  load_avg  load_sum  \\\n",
       "Time                                                                      \n",
       "0.000132  trace-cmd      0   1960    trace-cmd    0       339  16222383   \n",
       "0.000159  trace-cmd      0   1960    trace-cmd    0       339  16222383   \n",
       "0.000415     <idle>      2      0         sudo    2         0         6   \n",
       "0.000663       sudo      2   1959         sudo    2         0    122886   \n",
       "0.000866     <idle>      0      0  rcu_preempt    0        29   1418473   \n",
       "\n",
       "          period_contrib   pid  util_avg  util_est  util_sum cluster  \n",
       "Time                                                                  \n",
       "0.000132            1014  1960       135       135   6452317  LITTLE  \n",
       "0.000159            1014  1960       135       135   6452317  LITTLE  \n",
       "0.000415             140  1959         0       903         6     big  \n",
       "0.000663             434  1959         0       903    122886     big  \n",
       "0.000866             562     7        11        12    556028  LITTLE  "
      ]
     },
     "execution_count": 9,
     "metadata": {},
     "output_type": "execute_result"
    }
   ],
   "source": [
    "# Trace events are converted into tables, let's have a look at one\n",
    "# of such tables\n",
    "load_df = trace.df('sched_load_avg_task')\n",
    "load_df.head()"
   ]
  },
  {
   "cell_type": "code",
   "execution_count": 10,
   "metadata": {
    "code_folding": [],
    "collapsed": false
   },
   "outputs": [],
   "source": [
    "# Example of events filtering\n",
    "# df[df.comm == 'task_ramp'].head()"
   ]
  },
  {
   "cell_type": "code",
   "execution_count": 11,
   "metadata": {
    "collapsed": false
   },
   "outputs": [
    {
     "data": {
      "text/html": [
       "<div>\n",
       "<table border=\"1\" class=\"dataframe\">\n",
       "  <thead>\n",
       "    <tr style=\"text-align: right;\">\n",
       "      <th></th>\n",
       "      <th>__comm</th>\n",
       "      <th>__cpu</th>\n",
       "      <th>__pid</th>\n",
       "      <th>cpu</th>\n",
       "      <th>capacity</th>\n",
       "      <th>max_capacity</th>\n",
       "      <th>tip_capacity</th>\n",
       "    </tr>\n",
       "    <tr>\n",
       "      <th>Time</th>\n",
       "      <th></th>\n",
       "      <th></th>\n",
       "      <th></th>\n",
       "      <th></th>\n",
       "      <th></th>\n",
       "      <th></th>\n",
       "      <th></th>\n",
       "    </tr>\n",
       "  </thead>\n",
       "  <tbody>\n",
       "    <tr>\n",
       "      <th>0.000983</th>\n",
       "      <td>kschedfreq:1</td>\n",
       "      <td>1</td>\n",
       "      <td>1490</td>\n",
       "      <td>1</td>\n",
       "      <td>1024</td>\n",
       "      <td>1024</td>\n",
       "      <td>819.2</td>\n",
       "    </tr>\n",
       "    <tr>\n",
       "      <th>0.000985</th>\n",
       "      <td>kschedfreq:1</td>\n",
       "      <td>1</td>\n",
       "      <td>1490</td>\n",
       "      <td>2</td>\n",
       "      <td>1024</td>\n",
       "      <td>1024</td>\n",
       "      <td>819.2</td>\n",
       "    </tr>\n",
       "    <tr>\n",
       "      <th>0.418931</th>\n",
       "      <td>kschedfreq:1</td>\n",
       "      <td>1</td>\n",
       "      <td>1490</td>\n",
       "      <td>1</td>\n",
       "      <td>418</td>\n",
       "      <td>1024</td>\n",
       "      <td>819.2</td>\n",
       "    </tr>\n",
       "    <tr>\n",
       "      <th>0.418932</th>\n",
       "      <td>kschedfreq:1</td>\n",
       "      <td>1</td>\n",
       "      <td>1490</td>\n",
       "      <td>2</td>\n",
       "      <td>418</td>\n",
       "      <td>1024</td>\n",
       "      <td>819.2</td>\n",
       "    </tr>\n",
       "    <tr>\n",
       "      <th>0.421914</th>\n",
       "      <td>kschedfreq:1</td>\n",
       "      <td>1</td>\n",
       "      <td>1490</td>\n",
       "      <td>1</td>\n",
       "      <td>1024</td>\n",
       "      <td>1024</td>\n",
       "      <td>819.2</td>\n",
       "    </tr>\n",
       "  </tbody>\n",
       "</table>\n",
       "</div>"
      ],
      "text/plain": [
       "                __comm  __cpu  __pid  cpu  capacity  max_capacity  \\\n",
       "Time                                                                \n",
       "0.000983  kschedfreq:1      1   1490    1      1024          1024   \n",
       "0.000985  kschedfreq:1      1   1490    2      1024          1024   \n",
       "0.418931  kschedfreq:1      1   1490    1       418          1024   \n",
       "0.418932  kschedfreq:1      1   1490    2       418          1024   \n",
       "0.421914  kschedfreq:1      1   1490    1      1024          1024   \n",
       "\n",
       "          tip_capacity  \n",
       "Time                    \n",
       "0.000983         819.2  \n",
       "0.000985         819.2  \n",
       "0.418931         819.2  \n",
       "0.418932         819.2  \n",
       "0.421914         819.2  "
      ]
     },
     "execution_count": 11,
     "metadata": {},
     "output_type": "execute_result"
    }
   ],
   "source": [
    "cap_df = trace.df('cpu_capacity')\n",
    "cap_df.head()"
   ]
  },
  {
   "cell_type": "markdown",
   "metadata": {},
   "source": [
    "### Plot the signals of interest"
   ]
  },
  {
   "cell_type": "code",
   "execution_count": 12,
   "metadata": {
    "code_folding": [],
    "collapsed": false
   },
   "outputs": [
    {
     "data": {
      "text/html": [
       "<table style=\"border-style: hidden;\">\n",
       "<tr>\n",
       "<td style=\"border-style: hidden;\"><div class=\"ilineplot\" id=\"fig_3154360de0c640f4aa0777fa670765ce\">\n",
       "            <script>\n",
       "            var ilp_req = require.config( {\n",
       "\n",
       "                paths: {\n",
       "                    \"dygraph-sync\": '/nbextensions/plotter_scripts/ILinePlot/synchronizer',\n",
       "                    \"dygraph\": '/nbextensions/plotter_scripts/ILinePlot/dygraph-combined',\n",
       "                    \"ILinePlot\": '/nbextensions/plotter_scripts/ILinePlot/ILinePlot',\n",
       "                    \"underscore\": '/nbextensions/plotter_scripts/ILinePlot/underscore-min',\n",
       "                },\n",
       "\n",
       "                shim: {\n",
       "                    \"dygraph-sync\": [\"dygraph\"],\n",
       "                    \"ILinePlot\": {\n",
       "\n",
       "                        \"deps\": [\"dygraph-sync\", \"dygraph\", \"underscore\"],\n",
       "                        \"exports\":  \"ILinePlot\"\n",
       "                    }\n",
       "                }\n",
       "            });\n",
       "                ilp_req([\"require\", \"ILinePlot\"], function() {\n",
       "                ILinePlot.generate('fig_3154360de0c640f4aa0777fa670765ce', '/nbextensions/');\n",
       "            });\n",
       "            </script>\n",
       "        </div></td>\n",
       "<td style=\"border-style: hidden;\"><div class=\"ilineplot\" id=\"fig_397c20d0cb104a469223a7b72a4f210f\">\n",
       "            <script>\n",
       "            var ilp_req = require.config( {\n",
       "\n",
       "                paths: {\n",
       "                    \"dygraph-sync\": '/nbextensions/plotter_scripts/ILinePlot/synchronizer',\n",
       "                    \"dygraph\": '/nbextensions/plotter_scripts/ILinePlot/dygraph-combined',\n",
       "                    \"ILinePlot\": '/nbextensions/plotter_scripts/ILinePlot/ILinePlot',\n",
       "                    \"underscore\": '/nbextensions/plotter_scripts/ILinePlot/underscore-min',\n",
       "                },\n",
       "\n",
       "                shim: {\n",
       "                    \"dygraph-sync\": [\"dygraph\"],\n",
       "                    \"ILinePlot\": {\n",
       "\n",
       "                        \"deps\": [\"dygraph-sync\", \"dygraph\", \"underscore\"],\n",
       "                        \"exports\":  \"ILinePlot\"\n",
       "                    }\n",
       "                }\n",
       "            });\n",
       "                ilp_req([\"require\", \"ILinePlot\"], function() {\n",
       "                ILinePlot.generate('fig_397c20d0cb104a469223a7b72a4f210f', '/nbextensions/');\n",
       "            });\n",
       "            </script>\n",
       "        </div></td>\n",
       "</tr>\n",
       "<tr>\n",
       "<td style=\"border-style: hidden;\"><div style=\"text-align:center\" id=\"fig_3154360de0c640f4aa0777fa670765ce_legend\"></div></td>\n",
       "<td style=\"border-style: hidden;\"><div style=\"text-align:center\" id=\"fig_397c20d0cb104a469223a7b72a4f210f_legend\"></div></td>\n",
       "</tr>\n",
       "</table>"
      ],
      "text/plain": [
       "<IPython.core.display.HTML object>"
      ]
     },
     "metadata": {},
     "output_type": "display_data"
    }
   ],
   "source": [
    "# Signals can be easily plot using the ILinePlotter\n",
    "trappy.ILinePlot(\n",
    "    \n",
    "    # FTrace object\n",
    "    trace.ftrace,\n",
    "    \n",
    "    # Signals to be plotted\n",
    "    signals=[\n",
    "      'cpu_capacity:capacity',\n",
    "      'sched_load_avg_task:util_avg'\n",
    "    ],\n",
    "    \n",
    "    # Generate one plot for each value of the specified column\n",
    "     pivot='cpu',\n",
    "    \n",
    "    # Generate only plots which satisfy these filters\n",
    "    filters={\n",
    "        'comm': ['task_ramp'],\n",
    "        'cpu' : [2,5]\n",
    "    },\n",
    "    \n",
    "    # Formatting style\n",
    "    per_line=2,\n",
    "    drawstyle='steps-post',\n",
    "    marker = '+',\n",
    "    \n",
    "#     sync_zoom=True,\n",
    "#     group=\"GroupTag\"\n",
    "\n",
    ").view()"
   ]
  },
  {
   "cell_type": "markdown",
   "metadata": {},
   "source": [
    "## Is the task starting on a big core?"
   ]
  },
  {
   "cell_type": "code",
   "execution_count": 13,
   "metadata": {
    "collapsed": false
   },
   "outputs": [],
   "source": [
    "from bart.sched.SchedMultiAssert import SchedAssert\n",
    "\n",
    "# Create an object to get/assert scheduling pbehaviors\n",
    "sa = SchedAssert(trace_file, topology,  execname='task_ramp')"
   ]
  },
  {
   "cell_type": "code",
   "execution_count": 14,
   "metadata": {
    "collapsed": false
   },
   "outputs": [
    {
     "name": "stdout",
     "output_type": "stream",
     "text": [
      "PASS: Task starts on big CPU:  2\n"
     ]
    }
   ],
   "source": [
    "# Check on which CPU the task start its execution\n",
    "if sa.assertFirstCpu(platform['clusters']['big']): #, window=(4,6)):\n",
    "    print \"PASS: Task starts on big CPU: \", sa.getFirstCpu()\n",
    "else:\n",
    "    print \"FAIL: Task does NOT start on a big CPU!!!\""
   ]
  },
  {
   "cell_type": "markdown",
   "metadata": {},
   "source": [
    "## Is the task generating the expected load?"
   ]
  },
  {
   "cell_type": "markdown",
   "metadata": {},
   "source": [
    "We expect 35% load in the between 2 and 4 [s] of the execution"
   ]
  },
  {
   "cell_type": "code",
   "execution_count": 15,
   "metadata": {
    "collapsed": false
   },
   "outputs": [
    {
     "name": "stdout",
     "output_type": "stream",
     "text": [
      "The task starts execution at [s]:  1.933234\n",
      "Window of interest:  (1.9332339999998567, 3.9332339999998567)\n"
     ]
    }
   ],
   "source": [
    "# Let's find when the task starts\n",
    "start = sa.getStartTime()\n",
    "window=(start, start+2)\n",
    "\n",
    "print \"The task starts execution at [s]: \", start\n",
    "print \"Window of interest: \", window"
   ]
  },
  {
   "cell_type": "code",
   "execution_count": 16,
   "metadata": {
    "collapsed": false
   },
   "outputs": [
    {
     "name": "stdout",
     "output_type": "stream",
     "text": [
      "FAIL: Task duty-cycle is 19.0439% in the [2,4] execution window\n"
     ]
    }
   ],
   "source": [
    "import operator\n",
    "\n",
    "# Check the task duty cycle in the second step window\n",
    "if sa.assertDutyCycle(10, operator.lt, window=window):\n",
    "    print \"PASS: Task duty-cycle is {}% in the [2,4] execution window\"\\\n",
    "          .format(sa.getDutyCycle(window))\n",
    "else:\n",
    "    print \"FAIL: Task duty-cycle is {}% in the [2,4] execution window\"\\\n",
    "          .format(sa.getDutyCycle(window))"
   ]
  },
  {
   "cell_type": "markdown",
   "metadata": {},
   "source": [
    "This test fails because we have not considered a scaling factor due running at a lower OPP.\n",
    "\n",
    "To write a portable test we need to account for that condition!"
   ]
  },
  {
   "cell_type": "code",
   "execution_count": 17,
   "metadata": {
    "collapsed": false
   },
   "outputs": [
    {
     "name": "stdout",
     "output_type": "stream",
     "text": [
      "LITTLEs capacities range:  (236, 447)\n",
      "LITTLE's min capacity scale:  0.527964205817\n"
     ]
    }
   ],
   "source": [
    "# Get LITTLEs capacities ranges:\n",
    "littles = platform['clusters']['little']\n",
    "little_capacities = cap_df[cap_df.cpu.isin(littles)].capacity\n",
    "min_cap = little_capacities.min()\n",
    "max_cap = little_capacities.max()\n",
    "print \"LITTLEs capacities range: \", (min_cap, max_cap)\n",
    "\n",
    "# Get min OPP correction factor\n",
    "min_little_scale = 1.0 * min_cap / max_cap\n",
    "print \"LITTLE's min capacity scale: \", min_little_scale"
   ]
  },
  {
   "cell_type": "code",
   "execution_count": 18,
   "metadata": {
    "collapsed": false
   },
   "outputs": [
    {
     "name": "stdout",
     "output_type": "stream",
     "text": [
      "Scaled target duty-cycle:  18.9406779661\n",
      "1% tolerance scaled duty-cycle:  19.1300847458\n"
     ]
    }
   ],
   "source": [
    "# Scale the target duty-cycle according to the min OPP\n",
    "target_dutycycle = 10 / min_little_scale\n",
    "print \"Scaled target duty-cycle: \", target_dutycycle\n",
    "\n",
    "# Add a 1% tolerance to our test\n",
    "target_dutycycle = 1.01 * target_dutycycle\n",
    "\n",
    "print \"1% tolerance scaled duty-cycle: \", target_dutycycle"
   ]
  },
  {
   "cell_type": "code",
   "execution_count": 19,
   "metadata": {
    "collapsed": false
   },
   "outputs": [
    {
     "name": "stdout",
     "output_type": "stream",
     "text": [
      "PASS: Task duty-cycle is 19.0439% in the [2,4] execution window\n"
     ]
    }
   ],
   "source": [
    "# Check the task duty cycle in the second step window\n",
    "if sa.assertDutyCycle(target_dutycycle, operator.lt, window=window):\n",
    "    print \"PASS: Task duty-cycle is {}% in the [2,4] execution window\"\\\n",
    "          .format(sa.getDutyCycle(window))\n",
    "else:\n",
    "    print \"FAIL: Task duty-cycle is {}% in the [2,4] execution window\"\\\n",
    "          .format(sa.getDutyCycle(window))"
   ]
  },
  {
   "cell_type": "markdown",
   "metadata": {},
   "source": [
    "# Advanced examples"
   ]
  },
  {
   "cell_type": "markdown",
   "metadata": {},
   "source": [
    "## Is the CPU utilization always greater than the task utilization?"
   ]
  },
  {
   "cell_type": "code",
   "execution_count": null,
   "metadata": {
    "collapsed": true
   },
   "outputs": [],
   "source": []
  },
  {
   "cell_type": "markdown",
   "metadata": {},
   "source": [
    "## Is the CPU capacity closer to the task Utilization?"
   ]
  },
  {
   "cell_type": "markdown",
   "metadata": {},
   "source": [
    "We expect the CPU capacity to be the minimum possible to accomodate the task utilization in the third step"
   ]
  },
  {
   "cell_type": "code",
   "execution_count": null,
   "metadata": {
    "collapsed": true
   },
   "outputs": [],
   "source": []
  },
  {
   "cell_type": "markdown",
   "metadata": {},
   "source": [
    "## Is the task migrated once we exceed the LITTLE CPUs capacity?"
   ]
  },
  {
   "cell_type": "code",
   "execution_count": 20,
   "metadata": {
    "collapsed": false
   },
   "outputs": [
    {
     "data": {
      "text/html": [
       "<style>\n",
       "/*\n",
       "\n",
       " *    Copyright 2015-2016 ARM Limited\n",
       "\n",
       " *\n",
       "\n",
       " * Licensed under the Apache License, Version 2.0 (the \"License\");\n",
       "\n",
       " * you may not use this file except in compliance with the License.\n",
       "\n",
       " * You may obtain a copy of the License at\n",
       "\n",
       " *\n",
       "\n",
       " *     http://www.apache.org/licenses/LICENSE-2.0\n",
       "\n",
       " *\n",
       "\n",
       " * Unless required by applicable law or agreed to in writing, software\n",
       "\n",
       " * distributed under the License is distributed on an \"AS IS\" BASIS,\n",
       "\n",
       " * WITHOUT WARRANTIES OR CONDITIONS OF ANY KIND, either express or implied.\n",
       "\n",
       " * See the License for the specific language governing permissions and\n",
       "\n",
       " * limitations under the License.\n",
       "\n",
       " */\n",
       "\n",
       "\n",
       "\n",
       ".d3-tip {\n",
       "\n",
       "  line-height: 1;\n",
       "\n",
       "  padding: 12px;\n",
       "\n",
       "  background: rgba(0, 0, 0, 0.6);\n",
       "\n",
       "  color: #fff;\n",
       "\n",
       "  border-radius: 2px;\n",
       "\n",
       "  position: absolute !important;\n",
       "\n",
       "  z-index: 99999;\n",
       "\n",
       "}\n",
       "\n",
       "\n",
       "\n",
       ".d3-tip:after {\n",
       "\n",
       "  box-sizing: border-box;\n",
       "\n",
       "  pointer-events: none;\n",
       "\n",
       "  display: inline;\n",
       "\n",
       "  font-size: 10px;\n",
       "\n",
       "  width: 100%;\n",
       "\n",
       "  line-height: 1;\n",
       "\n",
       "  color: rgba(0, 0, 0, 0.6);\n",
       "\n",
       "  content: \"\\25BC\";\n",
       "\n",
       "  position: absolute !important;\n",
       "\n",
       "  z-index: 99999;\n",
       "\n",
       "  text-align: center;\n",
       "\n",
       "}\n",
       "\n",
       "\n",
       "\n",
       ".d3-tip.n:after {\n",
       "\n",
       "  margin: -1px 0 0 0;\n",
       "\n",
       "  top: 100%;\n",
       "\n",
       "  left: 0;\n",
       "\n",
       "}\n",
       "\n",
       "\n",
       "\n",
       ".contextRect {\n",
       "\n",
       "  fill: lightgray;\n",
       "\n",
       "  fill-opacity: 0.5;\n",
       "\n",
       "  stroke: black;\n",
       "\n",
       "  stroke-width: 1;\n",
       "\n",
       "  stroke-opacity: 1;\n",
       "\n",
       "  pointer-events: none;\n",
       "\n",
       "  shape-rendering: crispEdges;\n",
       "\n",
       "}\n",
       "\n",
       "\n",
       "\n",
       ".chart {\n",
       "\n",
       "  shape-rendering: crispEdges;\n",
       "\n",
       "}\n",
       "\n",
       "\n",
       "\n",
       ".mini text {\n",
       "\n",
       "  font: 9px sans-serif;\n",
       "\n",
       "}\n",
       "\n",
       "\n",
       "\n",
       ".main text {\n",
       "\n",
       "  font: 12px sans-serif;\n",
       "\n",
       "}\n",
       "\n",
       "\n",
       "\n",
       ".axis line, .axis path {\n",
       "\n",
       "  stroke: black;\n",
       "\n",
       "}\n",
       "\n",
       "\n",
       "\n",
       ".miniItem {\n",
       "\n",
       "  stroke-width: 8;\n",
       "\n",
       "}\n",
       "\n",
       "\n",
       "\n",
       ".brush .extent {\n",
       "\n",
       "\n",
       "\n",
       "  stroke: #000;\n",
       "\n",
       "  fill-opacity: .125;\n",
       "\n",
       "  shape-rendering: crispEdges;\n",
       "\n",
       "}\n",
       "\n",
       "</style>\n",
       "<div id=\"fig_8a7da9120e4f46ca8a50851d96b43139\" class=\"eventplot\">\n",
       "        <script>\n",
       "            var req = require.config( {\n",
       "\n",
       "                paths: {\n",
       "\n",
       "                    \"EventPlot\": '/nbextensions/plotter_scripts/EventPlot/EventPlot',\n",
       "                    \"d3-tip\": '/nbextensions/plotter_scripts/EventPlot/d3.tip.v0.6.3',\n",
       "                    \"d3-plotter\": '/nbextensions/plotter_scripts/EventPlot/d3.min'\n",
       "                },\n",
       "                shim: {\n",
       "                    \"d3-plotter\" : {\n",
       "                        \"exports\" : \"d3\"\n",
       "                    },\n",
       "                    \"d3-tip\": [\"d3-plotter\"],\n",
       "                    \"EventPlot\": {\n",
       "\n",
       "                        \"deps\": [\"d3-tip\", \"d3-plotter\" ],\n",
       "                        \"exports\":  \"EventPlot\"\n",
       "                    }\n",
       "                }\n",
       "            });\n",
       "            req([\"require\", \"EventPlot\"], function() {\n",
       "               EventPlot.generate('fig_8a7da9120e4f46ca8a50851d96b43139', '/nbextensions/');\n",
       "            });\n",
       "        </script>\n",
       "        </div>"
      ],
      "text/plain": [
       "<IPython.core.display.HTML object>"
      ]
     },
     "metadata": {},
     "output_type": "display_data"
    }
   ],
   "source": [
    "# Let's focus on a 15% boosted task\n",
    "trappy.plotter.plot_trace(boost15_trace, execnames=\"task_ramp\")"
   ]
  },
  {
   "cell_type": "code",
   "execution_count": 21,
   "metadata": {
    "collapsed": true
   },
   "outputs": [],
   "source": [
    "trace = Trace(platform, boost15_trace, [\n",
    "            \"sched_switch\",\n",
    "            \"sched_overutilized\",\n",
    "            \"sched_load_avg_cpu\",\n",
    "            \"sched_load_avg_task\",\n",
    "            \"sched_boost_cpu\",\n",
    "            \"sched_boost_task\",\n",
    "            \"cpu_frequency\",\n",
    "            \"cpu_capacity\",\n",
    "    ])"
   ]
  },
  {
   "cell_type": "code",
   "execution_count": 22,
   "metadata": {
    "collapsed": false
   },
   "outputs": [],
   "source": [
    "from trace_analysis import TraceAnalysis\n",
    "\n",
    "# Initialize a trace analysis module\n",
    "ta = TraceAnalysis(trace, tasks=['task_ramp'], prefix='boost15_')"
   ]
  },
  {
   "cell_type": "markdown",
   "metadata": {},
   "source": [
    "## What are the behaviors of the task?"
   ]
  },
  {
   "cell_type": "markdown",
   "metadata": {},
   "source": [
    "Usually a common set of plots can be generated which capture the most useful information realted to a workload we are analysing"
   ]
  },
  {
   "cell_type": "code",
   "execution_count": 24,
   "metadata": {
    "collapsed": false
   },
   "outputs": [
    {
     "data": {
      "image/png": "[encoded data removed]",
      "text/plain": [
       "<matplotlib.figure.Figure at 0x7f86e9976690>"
      ]
     },
     "metadata": {},
     "output_type": "display_data"
    }
   ],
   "source": [
    "ta.plotTasks(\n",
    "    signals=['util_avg', 'boosted_util', 'sched_overutilized', 'residencies'],\n",
    ")"
   ]
  },
  {
   "cell_type": "code",
   "execution_count": 29,
   "metadata": {
    "collapsed": false
   },
   "outputs": [
    {
     "name": "stdout",
     "output_type": "stream",
     "text": [
      "\u001b[01;34m../../results/SchedTuneAnalysis/\u001b[00m\r\n",
      "├── \u001b[01;35mboost15_task_util_task_ramp.png\u001b[00m\r\n",
      "├── energy.json\r\n",
      "├── output.log\r\n",
      "├── platform.json\r\n",
      "├── rt-app-task_ramp-0.log\r\n",
      "├── test_00.json\r\n",
      "├── trace_boost15.dat\r\n",
      "├── trace_boost15.raw.txt\r\n",
      "├── trace_boost15.txt\r\n",
      "├── trace_boost25.dat\r\n",
      "├── trace_boost25.raw.txt\r\n",
      "├── trace_boost25.txt\r\n",
      "├── trace.dat\r\n",
      "├── trace_noboost.dat\r\n",
      "├── trace_noboost.raw.txt\r\n",
      "├── trace_noboost.txt\r\n",
      "├── trace.raw.txt\r\n",
      "└── trace.txt\r\n",
      "\r\n",
      "0 directories, 18 files\r\n"
     ]
    }
   ],
   "source": [
    "!tree {res_dir}"
   ]
  },
  {
   "cell_type": "markdown",
   "metadata": {},
   "source": [
    "## Is the task migrating to a big core when we expect it to happen"
   ]
  },
  {
   "cell_type": "code",
   "execution_count": 30,
   "metadata": {
    "collapsed": true
   },
   "outputs": [],
   "source": [
    "# Create an object to get/assert scheduling pbehaviors\n",
    "sa = SchedAssert(boost15_trace, topology,  execname='task_ramp')"
   ]
  },
  {
   "cell_type": "code",
   "execution_count": 36,
   "metadata": {
    "collapsed": false
   },
   "outputs": [
    {
     "name": "stdout",
     "output_type": "stream",
     "text": [
      "PASS: Task switches to big within:  (5.8682999999999996, 6.0682999999999989)\n"
     ]
    }
   ],
   "source": [
    "# Let's find when the task starts\n",
    "start = sa.getStartTime()\n",
    "\n",
    "# Consider a 100 [ms] window for the task to migrate\n",
    "delta = 0.1\n",
    "\n",
    "# Defined the window of interest\n",
    "switch_window=(start+4-delta, start+4+delta)\n",
    "\n",
    "if sa.assertSwitch(\"cluster\",\n",
    "             platform['clusters']['little'],\n",
    "             platform['clusters']['big'],\n",
    "             window=switch_window):\n",
    "    print \"PASS: Task switches to big within: \", switch_window\n",
    "else:\n",
    "    print \"PASS: Task DOES NO switches to big within: \", switch_window"
   ]
  },
  {
   "cell_type": "code",
   "execution_count": 46,
   "metadata": {
    "collapsed": false
   },
   "outputs": [
    {
     "name": "stdout",
     "output_type": "stream",
     "text": [
      "PASS: Task exectuion on LITTLEs is 53.1% (less than 66% of its execution time)\n"
     ]
    }
   ],
   "source": [
    "import operator\n",
    "\n",
    "if sa.assertResidency(\"cluster\", platform['clusters']['little'], 66, operator.le, percent=True):\n",
    "    print \"PASS: Task exectuion on LITTLEs is {:.1f}% (less than 66% of its execution time)\".\\\n",
    "        format(sa.getResidency(\"cluster\", platform['clusters']['little'], percent=True))\n",
    "else:\n",
    "    print \"FAIL: Task run on LITTLE for MORE than 66% of its execution time\""
   ]
  },
  {
   "cell_type": "markdown",
   "metadata": {},
   "source": [
    "## What are the relative residency on different OPPs?"
   ]
  },
  {
   "cell_type": "code",
   "execution_count": 56,
   "metadata": {
    "collapsed": false
   },
   "outputs": [
    {
     "name": "stdout",
     "output_type": "stream",
     "text": [
      "Residency time per OPP:\n",
      "Freq     450000Hz :  59.3%\n",
      "Freq     575000Hz :  11.7%\n",
      "Freq     700000Hz :  19.5%\n",
      "Freq     775000Hz :   8.8%\n",
      "Freq     850000Hz :   0.6%\n"
     ]
    }
   ],
   "source": [
    "import pandas as pd\n",
    "\n",
    "# Focus on cpu_frequency events for CPU0\n",
    "df = trace.df('cpu_frequency')\n",
    "df = df[df.cpu == 0]\n",
    "\n",
    "# Compute the residency on each OPP before switching to the next one\n",
    "df.loc[:,'start'] = df.index\n",
    "df.loc[:,'delta'] = (df['start'] - df['start'].shift()).fillna(0).shift(-1)\n",
    "\n",
    "# Group by frequency and sum-up the deltas\n",
    "freq_residencies = df.groupby('frequency')['delta'].sum()\n",
    "print \"Residency time per OPP:\"\n",
    "df = pd.DataFrame(freq_residencies)\n",
    "\n",
    "df.head()\n",
    "\n",
    "# Compute the relative residency time\n",
    "tot = sum(freq_residencies)\n",
    "#df = df.apply(lambda delta : 100*delta/tot)\n",
    "for f in freq_residencies.index:\n",
    "    print \"Freq {:10d}Hz : {:5.1f}%\".format(f, 100*freq_residencies[f]/tot)"
   ]
  },
  {
   "cell_type": "code",
   "execution_count": 57,
   "metadata": {
    "collapsed": false
   },
   "outputs": [
    {
     "data": {
      "image/png": "[encoded data removed]",
      "text/plain": [
       "<matplotlib.figure.Figure at 0x7f86e987ea10>"
      ]
     },
     "metadata": {},
     "output_type": "display_data"
    }
   ],
   "source": [
    "# Plot residency time\n",
    "import matplotlib.pyplot as plt\n",
    "\n",
    "fig, axes = plt.subplots(1, 1, figsize=(16, 5));\n",
    "df.plot(kind='bar', ax=axes);"
   ]
  },
  {
   "cell_type": "markdown",
   "metadata": {},
   "source": [
    "<br><br><br><br>\n",
    "Advanced DataFrame usage: filtering by columns/rows, merging tables, plotting data<br>\n",
    "[notebooks/tutorial/05_TrappyUsage.ipynb](05_TrappyUsage.ipynb)\n",
    "<br><br><br><br>"
   ]
  }
 ],
 "metadata": {
  "kernelspec": {
   "display_name": "Python 2",
   "language": "python",
   "name": "python2"
  },
  "language_info": {
   "codemirror_mode": {
    "name": "ipython",
    "version": 2
   },
   "file_extension": ".py",
   "mimetype": "text/x-python",
   "name": "python",
   "nbconvert_exporter": "python",
   "pygments_lexer": "ipython2",
   "version": "2.7.9"
  },
  "toc": {
   "toc_cell": false,
   "toc_number_sections": true,
   "toc_threshold": 6,
   "toc_window_display": false
  }
 },
 "nbformat": 4,
 "nbformat_minor": 0
}
